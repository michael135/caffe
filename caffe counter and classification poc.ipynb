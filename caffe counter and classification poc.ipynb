{
 "cells": [
  {
   "cell_type": "code",
   "execution_count": 333,
   "metadata": {
    "collapsed": false
   },
   "outputs": [
    {
     "name": "stdout",
     "output_type": "stream",
     "text": [
      "Populating the interactive namespace from numpy and matplotlib\n"
     ]
    }
   ],
   "source": [
    "import os\n",
    "import datetime\n",
    "from collections import Counter\n",
    "import pandas as pd\n",
    "from sklearn.svm import LinearSVC, SVC\n",
    "from sklearn.linear_model import LogisticRegression\n",
    "from sklearn.model_selection import train_test_split\n",
    "from sklearn.metrics import confusion_matrix, accuracy_score\n",
    "%pylab inline"
   ]
  },
  {
   "cell_type": "code",
   "execution_count": 159,
   "metadata": {
    "collapsed": false
   },
   "outputs": [
    {
     "name": "stdout",
     "output_type": "stream",
     "text": [
      "/Users/mdymshits/aviv/data\n",
      "\u001b[34mdrive-download-20170512T141423Z-001\u001b[m\u001b[m/\r\n",
      "drive-download-20170512T141423Z-001.zip\r\n",
      "\u001b[34mmixed\u001b[m\u001b[m/\r\n",
      "\u001b[31mresults-20170419-short-esp-type-1.xlsx\u001b[m\u001b[m*\r\n",
      "results-20170420-long-esp-type-2-18.csv\r\n",
      "\u001b[31mresults-20170420-long-esp-type-2-18.xlsx\u001b[m\u001b[m*\r\n",
      "\u001b[31mresults-20170420-long-esp-type-2.xlsx\u001b[m\u001b[m*\r\n",
      "results-20170421-capucio-type2-24.xlsx\r\n",
      "results-20170501-latte-type2-10.xlsx\r\n"
     ]
    }
   ],
   "source": [
    "% cd /Users/mdymshits/aviv/data\n",
    "% ls"
   ]
  },
  {
   "cell_type": "markdown",
   "metadata": {},
   "source": [
    "### Initial parameters"
   ]
  },
  {
   "cell_type": "code",
   "execution_count": 224,
   "metadata": {
    "collapsed": true
   },
   "outputs": [],
   "source": [
    "short_esp_threshold = 0.8\n",
    "time_block_value = 85"
   ]
  },
  {
   "cell_type": "markdown",
   "metadata": {},
   "source": [
    "### Main functions"
   ]
  },
  {
   "cell_type": "code",
   "execution_count": 344,
   "metadata": {
    "collapsed": false
   },
   "outputs": [],
   "source": [
    "def reading_file(path):\n",
    "    if path.endswith('xlsx'):\n",
    "        df = pd.read_excel(path)\n",
    "    elif path.endswith('csv'):\n",
    "        df = pd.read_csv(path, names=['date', 'ActivePower'],  header=0)\n",
    "        df['date'] = pd.to_datetime(df['date'])\n",
    "    return df\n",
    "\n",
    "def caffe_blocks_extraction(df):\n",
    "    blocks = []\n",
    "    next_line = 0\n",
    "    for i in range(df.shape[0]):\n",
    "        line = df.iloc[next_line]\n",
    "        if line['ActivePower'] > short_esp_threshold:\n",
    "            start = line['date']\n",
    "#             print next_line\n",
    "            end = line['date'] + datetime.timedelta(0,time_block_value)\n",
    "            block = df[(df['date'] > start) & (df['date'] <= end)]\n",
    "            blocks.append(block )\n",
    "            next_line += block.shape[0]\n",
    "        else:\n",
    "            next_line += 1\n",
    "        if next_line > df.shape[0] - 1:\n",
    "            break\n",
    "    return blocks\n",
    "\n",
    "def feature_extraction(blocks):\n",
    "    return [b.describe().values.flatten().tolist() for b in blocks]\n",
    "#     return [[b.std().values[0], b.mean().values[0]] for b in blocks]\n",
    "    \n",
    "def path_to_features(path):\n",
    "    df = reading_file(path)\n",
    "    blocks = caffe_blocks_extraction(df)\n",
    "    print 'there is about {} cups'.format(len(blocks))\n",
    "    return feature_extraction(blocks)"
   ]
  },
  {
   "cell_type": "markdown",
   "metadata": {},
   "source": [
    "### Feature extractions, and labels creation"
   ]
  },
  {
   "cell_type": "code",
   "execution_count": 345,
   "metadata": {
    "collapsed": false
   },
   "outputs": [
    {
     "name": "stdout",
     "output_type": "stream",
     "text": [
      "there is about 10 cups\n",
      "there is about 18 cups\n",
      "there is about 29 cups\n",
      "there is about 26 cups\n"
     ]
    }
   ],
   "source": [
    "path_l = '/Users/mdymshits/aviv/data/results-20170501-latte-type2-10.xlsx'\n",
    "path_e = '/Users/mdymshits/aviv/data/results-20170420-long-esp-type-2-18.csv'\n",
    "path_c = '/Users/mdymshits/aviv/data/results-20170421-capucio-type2-24.xlsx'\n",
    "path_es = '/Users/mdymshits/aviv/data/results-20170419-short-esp-type-1.xlsx'\n",
    "\n",
    "features_l, labels_l = path_to_features(path_l), [1] * 10\n",
    "features_e, labels_e = path_to_features(path_e), [0] * 18\n",
    "features_c, labels_c = path_to_features(path_c), [1] * 29\n",
    "features_es, labels_es = path_to_features(path_es), [0] * 26\n",
    "features = features_l + features_e + features_c + features_es\n",
    "labels = labels_l + labels_e + labels_c + labels_es"
   ]
  },
  {
   "cell_type": "markdown",
   "metadata": {},
   "source": [
    "### Training Classifier"
   ]
  },
  {
   "cell_type": "code",
   "execution_count": 346,
   "metadata": {
    "collapsed": false
   },
   "outputs": [
    {
     "name": "stdout",
     "output_type": "stream",
     "text": [
      "[[18  1]\n",
      " [ 2 21]]\n",
      "0.928571428571\n"
     ]
    }
   ],
   "source": [
    "X_train, X_test, y_train, y_test = train_test_split(features, labels, test_size=0.5, random_state=42)\n",
    "# clf = LinearSVC(C=1)\n",
    "# clf = SVC(kernel='rbf')\n",
    "clf = LogisticRegression()"
   ]
  },
  {
   "cell_type": "markdown",
   "metadata": {},
   "source": [
    "### Performance evaluation\n",
    "If the meaning of confusion matrix is not clear, look at [Confusion Matrix page](https://en.wikipedia.org/wiki/Confusion_matrix)"
   ]
  },
  {
   "cell_type": "code",
   "execution_count": 361,
   "metadata": {
    "collapsed": false
   },
   "outputs": [
    {
     "name": "stdout",
     "output_type": "stream",
     "text": [
      "confusiont matrix \n",
      " [[18  1]\n",
      " [ 2 21]] \n",
      "\n",
      "accuracy = 0.929\n"
     ]
    }
   ],
   "source": [
    "print 'confusiont matrix \\n {} \\n'.format(confusion_matrix(\n",
    "        y_test, preds))\n",
    "print 'accuracy = {0:0.3f}'.format(accuracy_score(y_test, preds))"
   ]
  },
  {
   "cell_type": "code",
   "execution_count": null,
   "metadata": {
    "collapsed": true
   },
   "outputs": [],
   "source": []
  }
 ],
 "metadata": {
  "kernelspec": {
   "display_name": "Python 2",
   "language": "python",
   "name": "python2"
  },
  "language_info": {
   "codemirror_mode": {
    "name": "ipython",
    "version": 2
   },
   "file_extension": ".py",
   "mimetype": "text/x-python",
   "name": "python",
   "nbconvert_exporter": "python",
   "pygments_lexer": "ipython2",
   "version": "2.7.11"
  }
 },
 "nbformat": 4,
 "nbformat_minor": 0
}
