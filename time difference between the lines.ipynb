{
 "cells": [
  {
   "cell_type": "code",
   "execution_count": 95,
   "metadata": {
    "collapsed": false
   },
   "outputs": [
    {
     "name": "stdout",
     "output_type": "stream",
     "text": [
      "The ipython_unittest extension is already loaded. To reload it, use:\n",
      "  %reload_ext ipython_unittest\n"
     ]
    }
   ],
   "source": [
    "import os\n",
    "import pandas as pd\n",
    "import matplotlib.pyplot as plt\n",
    "%matplotlib inline\n",
    "%load_ext ipython_unittest"
   ]
  },
  {
   "cell_type": "code",
   "execution_count": 2,
   "metadata": {
    "collapsed": false
   },
   "outputs": [
    {
     "name": "stdout",
     "output_type": "stream",
     "text": [
      "Untitled.ipynb\r\n",
      "\u001b[34mdrive-download-20170512T141423Z-001\u001b[m\u001b[m/\r\n",
      "drive-download-20170512T141423Z-001.zip\r\n",
      "\u001b[34mmixed\u001b[m\u001b[m/\r\n",
      "\u001b[31mresults-20170419-short-esp-type-1.xlsx\u001b[m\u001b[m*\r\n",
      "\u001b[31mresults-20170420-long-esp-type-2-18.xlsx\u001b[m\u001b[m*\r\n",
      "\u001b[31mresults-20170420-long-esp-type-2.xlsx\u001b[m\u001b[m*\r\n",
      "results-20170421-capucio-type2-24.xlsx\r\n",
      "results-20170501-latte-type2-10.xlsx\r\n",
      "~$results-20170419-short-esp-type-1.xlsx\r\n"
     ]
    }
   ],
   "source": [
    "%ls"
   ]
  },
  {
   "cell_type": "code",
   "execution_count": 41,
   "metadata": {
    "collapsed": false
   },
   "outputs": [],
   "source": [
    "def time_diff_per_df(df):\n",
    "    \"\"\"\n",
    "    calculates time differences for adjacent rows per file.\n",
    "    \"\"\"\n",
    "    return [(b - a).seconds for a, b in zip(df['date'].iloc[0:], df['date'].iloc[1:])]"
   ]
  },
  {
   "cell_type": "code",
   "execution_count": 93,
   "metadata": {
    "collapsed": false
   },
   "outputs": [
    {
     "name": "stdout",
     "output_type": "stream",
     "text": [
      "results-20170417-סדרה משולבת של כל סוגי הקפה סוג פולים 1.xlsx\n",
      "results-20170419-סדרה של 24 אספרסו קצר סוג 1.xlsx\n",
      "results-20170420-סדרה של אספרסו ארוך 17 מופעים סוג פולים 2.xlsx\n",
      "some problem\n",
      "results-20170420-סדרה של אספרסו ארוך סוג 2 עם 18 מופעים.xlsx\n",
      "some problem\n",
      "results-20170421-סדרה של 24 קפוצינו ו 20 ניקוי צינורית חלב סוג 2.xlsx\n",
      "results-20170426-סדרה של אספרסו קצר וארוך משני סוגי פולים.xlsx\n",
      "results-20170501- סדרה של אספרסו קצר וארוך בהפעלה כפולה 10 מחזורים וגם לטה 15 מחזורים_שני סוגי פולים.xlsx\n"
     ]
    }
   ],
   "source": [
    "res = []\n",
    "for fname in os.listdir('./drive-download-20170512T141423Z-001/'):\n",
    "    if not fname.endswith('.xlsx'):\n",
    "        continue\n",
    "    print fname\n",
    "    df = pd.read_excel(os.path.join('./drive-download-20170512T141423Z-001',\n",
    "                         fname))\n",
    "    try:\n",
    "        res.append(time_diff_per_df(df))\n",
    "    except:\n",
    "        print 'some problem'\n",
    "        pass                       \n",
    " \n",
    "    "
   ]
  },
  {
   "cell_type": "code",
   "execution_count": 114,
   "metadata": {
    "collapsed": false
   },
   "outputs": [
    {
     "name": "stderr",
     "output_type": "stream",
     "text": [
      "/usr/local/lib/python2.7/site-packages/matplotlib/axes/_axes.py:519: UserWarning: No labelled objects found. Use label='...' kwarg on individual plots.\n",
      "  warnings.warn(\"No labelled objects found. \"\n"
     ]
    },
    {
     "data": {
      "image/png": "[encoded data removed]",
      "text/plain": [
       "<matplotlib.figure.Figure at 0x1138d6950>"
      ]
     },
     "metadata": {},
     "output_type": "display_data"
    }
   ],
   "source": [
    "plt.rcParams['figure.figsize'] = (20, 10)\n",
    "for r in res:\n",
    "    bins=[2,3,4] + range(5,40)\n",
    "    plt.hist(r, bins=bins, alpha = .5)\n",
    "plt.xlabel('time difference in second', fontsize=20)\n",
    "plt.ylabel('counter', fontsize=20)\n",
    "plt.title('time difference, between adajacent lines, t > 1', fontsize=30)\n",
    "plt.legend()"
   ]
  },
  {
   "cell_type": "code",
   "execution_count": 85,
   "metadata": {
    "collapsed": false
   },
   "outputs": [
    {
     "data": {
      "application/javascript": [
       "$(':has(> #dojo-timer-time)').css(\"background-color\",\"yellow\");"
      ],
      "text/plain": [
       "<IPython.core.display.Javascript object>"
      ]
     },
     "metadata": {},
     "output_type": "display_data"
    },
    {
     "name": "stdout",
     "output_type": "stream",
     "text": [
      ".\n",
      "----------------------------------------------------------------------\n",
      "Ran 1 test in 0.003s\n",
      "\n",
      "OK\n"
     ]
    },
    {
     "data": {
      "application/javascript": [
       "$(':has(> #dojo-timer-time)').css(\"background-color\",\"lightgreen\");"
      ],
      "text/plain": [
       "<IPython.core.display.Javascript object>"
      ]
     },
     "metadata": {},
     "output_type": "display_data"
    },
    {
     "data": {
      "text/plain": [
       "<unittest.runner.TextTestResult run=1 errors=0 failures=0>"
      ]
     },
     "execution_count": 85,
     "metadata": {},
     "output_type": "execute_result"
    }
   ],
   "source": [
    "%%unittest_testcase\n",
    "\n",
    "def test_time_diff_per_df(self):\n",
    "    a = pd.DataFrame([{'date': '0'}, {'date': '1'}, {'date': '2'}])\n",
    "    a['date'] = pd.to_datetime(a['date'], format='%S')\n",
    "    b = pd.DataFrame([{'date': '0'}, {'date': '20'}, {'date': '21'}])\n",
    "    b['date'] = pd.to_datetime(b['date'], format='%S')\n",
    "    self.assertListEqual(time_diff_per_df(a), [1, 1])\n",
    "    self.assertListEqual(time_diff_per_df(b), [20, 1])"
   ]
  }
 ],
 "metadata": {
  "kernelspec": {
   "display_name": "Python 2",
   "language": "python",
   "name": "python2"
  },
  "language_info": {
   "codemirror_mode": {
    "name": "ipython",
    "version": 2
   },
   "file_extension": ".py",
   "mimetype": "text/x-python",
   "name": "python",
   "nbconvert_exporter": "python",
   "pygments_lexer": "ipython2",
   "version": "2.7.11"
  }
 },
 "nbformat": 4,
 "nbformat_minor": 0
}
